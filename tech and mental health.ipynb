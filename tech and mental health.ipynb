{
 "cells": [
  {
   "cell_type": "code",
   "execution_count": 1,
   "metadata": {},
   "outputs": [],
   "source": [
    "import pandas as pd\n",
    "import re\n",
    "import numpy as np\n",
    "import seaborn as sns\n",
    "import matplotlib.pyplot as plt"
   ]
  },
  {
   "cell_type": "markdown",
   "metadata": {},
   "source": [
    "## Introduction\n",
    "\n",
    "The aim of this analysis is to understand the perception between mental health and pyshical health in the work place. It focus on tryign to understnad whether employees feel shame to report any mental or physical issues and whether this issues are perceived the same way by both genders.\n",
    "\n",
    "The dataset, made available by Open Sourcing Mental Illness, is from a 2014 survey that measures attitudes towards mental health and frequency of mental health disorders in the tech workplace.\n",
    "\n",
    "This study focus on the answers given to que following questions: \n",
    "benefits: \n",
    "\n",
    "\n",
    "- Do you think that discussing a mental health issue with your employer would have negative consequences?\n",
    "\n",
    "- Do you think that discussing a physical health issue with your employer would have negative consequences?\n",
    "\n",
    "- Would you be willing to discuss a mental health issue with your coworkers?\n",
    "\n",
    "- Would you be willing to discuss a mental health issue with your direct supervisor(s)?\n",
    "\n",
    "- Would you bring up a mental health issue with a potential employer in an interview?\n",
    "\n",
    "- Would you bring up a physical health issue with a potential employer in an interview?\n",
    "\n"
   ]
  },
  {
   "cell_type": "markdown",
   "metadata": {},
   "source": [
    "#### Library and data loading"
   ]
  },
  {
   "cell_type": "code",
   "execution_count": 3,
   "metadata": {},
   "outputs": [],
   "source": [
    "import pandas as pd\n",
    "import re\n",
    "import numpy as np\n",
    "import seaborn as sns\n",
    "import matplotlib.pyplot as plt"
   ]
  },
  {
   "cell_type": "code",
   "execution_count": 4,
   "metadata": {},
   "outputs": [],
   "source": [
    "df = pd.read_csv(\"/Users/ana/ironhack_coding/datasets/mental_health_in_tech.csv\")"
   ]
  },
  {
   "cell_type": "markdown",
   "metadata": {},
   "source": [
    "#### Exploring the data"
   ]
  },
  {
   "cell_type": "code",
   "execution_count": 5,
   "metadata": {
    "scrolled": false
   },
   "outputs": [
    {
     "data": {
      "text/html": [
       "<div>\n",
       "<style scoped>\n",
       "    .dataframe tbody tr th:only-of-type {\n",
       "        vertical-align: middle;\n",
       "    }\n",
       "\n",
       "    .dataframe tbody tr th {\n",
       "        vertical-align: top;\n",
       "    }\n",
       "\n",
       "    .dataframe thead th {\n",
       "        text-align: right;\n",
       "    }\n",
       "</style>\n",
       "<table border=\"1\" class=\"dataframe\">\n",
       "  <thead>\n",
       "    <tr style=\"text-align: right;\">\n",
       "      <th></th>\n",
       "      <th>Timestamp</th>\n",
       "      <th>Age</th>\n",
       "      <th>Gender</th>\n",
       "      <th>Country</th>\n",
       "      <th>state</th>\n",
       "      <th>self_employed</th>\n",
       "      <th>family_history</th>\n",
       "      <th>treatment</th>\n",
       "      <th>work_interfere</th>\n",
       "      <th>no_employees</th>\n",
       "      <th>...</th>\n",
       "      <th>leave</th>\n",
       "      <th>mental_health_consequence</th>\n",
       "      <th>phys_health_consequence</th>\n",
       "      <th>coworkers</th>\n",
       "      <th>supervisor</th>\n",
       "      <th>mental_health_interview</th>\n",
       "      <th>phys_health_interview</th>\n",
       "      <th>mental_vs_physical</th>\n",
       "      <th>obs_consequence</th>\n",
       "      <th>comments</th>\n",
       "    </tr>\n",
       "  </thead>\n",
       "  <tbody>\n",
       "    <tr>\n",
       "      <th>0</th>\n",
       "      <td>2014-08-27 11:29:31</td>\n",
       "      <td>37</td>\n",
       "      <td>Female</td>\n",
       "      <td>United States</td>\n",
       "      <td>IL</td>\n",
       "      <td>NaN</td>\n",
       "      <td>No</td>\n",
       "      <td>Yes</td>\n",
       "      <td>Often</td>\n",
       "      <td>6-25</td>\n",
       "      <td>...</td>\n",
       "      <td>Somewhat easy</td>\n",
       "      <td>No</td>\n",
       "      <td>No</td>\n",
       "      <td>Some of them</td>\n",
       "      <td>Yes</td>\n",
       "      <td>No</td>\n",
       "      <td>Maybe</td>\n",
       "      <td>Yes</td>\n",
       "      <td>No</td>\n",
       "      <td>NaN</td>\n",
       "    </tr>\n",
       "    <tr>\n",
       "      <th>1</th>\n",
       "      <td>2014-08-27 11:29:37</td>\n",
       "      <td>44</td>\n",
       "      <td>M</td>\n",
       "      <td>United States</td>\n",
       "      <td>IN</td>\n",
       "      <td>NaN</td>\n",
       "      <td>No</td>\n",
       "      <td>No</td>\n",
       "      <td>Rarely</td>\n",
       "      <td>More than 1000</td>\n",
       "      <td>...</td>\n",
       "      <td>Don't know</td>\n",
       "      <td>Maybe</td>\n",
       "      <td>No</td>\n",
       "      <td>No</td>\n",
       "      <td>No</td>\n",
       "      <td>No</td>\n",
       "      <td>No</td>\n",
       "      <td>Don't know</td>\n",
       "      <td>No</td>\n",
       "      <td>NaN</td>\n",
       "    </tr>\n",
       "    <tr>\n",
       "      <th>2</th>\n",
       "      <td>2014-08-27 11:29:44</td>\n",
       "      <td>32</td>\n",
       "      <td>Male</td>\n",
       "      <td>Canada</td>\n",
       "      <td>NaN</td>\n",
       "      <td>NaN</td>\n",
       "      <td>No</td>\n",
       "      <td>No</td>\n",
       "      <td>Rarely</td>\n",
       "      <td>6-25</td>\n",
       "      <td>...</td>\n",
       "      <td>Somewhat difficult</td>\n",
       "      <td>No</td>\n",
       "      <td>No</td>\n",
       "      <td>Yes</td>\n",
       "      <td>Yes</td>\n",
       "      <td>Yes</td>\n",
       "      <td>Yes</td>\n",
       "      <td>No</td>\n",
       "      <td>No</td>\n",
       "      <td>NaN</td>\n",
       "    </tr>\n",
       "    <tr>\n",
       "      <th>3</th>\n",
       "      <td>2014-08-27 11:29:46</td>\n",
       "      <td>31</td>\n",
       "      <td>Male</td>\n",
       "      <td>United Kingdom</td>\n",
       "      <td>NaN</td>\n",
       "      <td>NaN</td>\n",
       "      <td>Yes</td>\n",
       "      <td>Yes</td>\n",
       "      <td>Often</td>\n",
       "      <td>26-100</td>\n",
       "      <td>...</td>\n",
       "      <td>Somewhat difficult</td>\n",
       "      <td>Yes</td>\n",
       "      <td>Yes</td>\n",
       "      <td>Some of them</td>\n",
       "      <td>No</td>\n",
       "      <td>Maybe</td>\n",
       "      <td>Maybe</td>\n",
       "      <td>No</td>\n",
       "      <td>Yes</td>\n",
       "      <td>NaN</td>\n",
       "    </tr>\n",
       "    <tr>\n",
       "      <th>4</th>\n",
       "      <td>2014-08-27 11:30:22</td>\n",
       "      <td>31</td>\n",
       "      <td>Male</td>\n",
       "      <td>United States</td>\n",
       "      <td>TX</td>\n",
       "      <td>NaN</td>\n",
       "      <td>No</td>\n",
       "      <td>No</td>\n",
       "      <td>Never</td>\n",
       "      <td>100-500</td>\n",
       "      <td>...</td>\n",
       "      <td>Don't know</td>\n",
       "      <td>No</td>\n",
       "      <td>No</td>\n",
       "      <td>Some of them</td>\n",
       "      <td>Yes</td>\n",
       "      <td>Yes</td>\n",
       "      <td>Yes</td>\n",
       "      <td>Don't know</td>\n",
       "      <td>No</td>\n",
       "      <td>NaN</td>\n",
       "    </tr>\n",
       "  </tbody>\n",
       "</table>\n",
       "<p>5 rows × 27 columns</p>\n",
       "</div>"
      ],
      "text/plain": [
       "             Timestamp  Age  Gender         Country state self_employed  \\\n",
       "0  2014-08-27 11:29:31   37  Female   United States    IL           NaN   \n",
       "1  2014-08-27 11:29:37   44       M   United States    IN           NaN   \n",
       "2  2014-08-27 11:29:44   32    Male          Canada   NaN           NaN   \n",
       "3  2014-08-27 11:29:46   31    Male  United Kingdom   NaN           NaN   \n",
       "4  2014-08-27 11:30:22   31    Male   United States    TX           NaN   \n",
       "\n",
       "  family_history treatment work_interfere    no_employees  ...  \\\n",
       "0             No       Yes          Often            6-25  ...   \n",
       "1             No        No         Rarely  More than 1000  ...   \n",
       "2             No        No         Rarely            6-25  ...   \n",
       "3            Yes       Yes          Often          26-100  ...   \n",
       "4             No        No          Never         100-500  ...   \n",
       "\n",
       "                leave mental_health_consequence phys_health_consequence  \\\n",
       "0       Somewhat easy                        No                      No   \n",
       "1          Don't know                     Maybe                      No   \n",
       "2  Somewhat difficult                        No                      No   \n",
       "3  Somewhat difficult                       Yes                     Yes   \n",
       "4          Don't know                        No                      No   \n",
       "\n",
       "      coworkers supervisor mental_health_interview phys_health_interview  \\\n",
       "0  Some of them        Yes                      No                 Maybe   \n",
       "1            No         No                      No                    No   \n",
       "2           Yes        Yes                     Yes                   Yes   \n",
       "3  Some of them         No                   Maybe                 Maybe   \n",
       "4  Some of them        Yes                     Yes                   Yes   \n",
       "\n",
       "  mental_vs_physical obs_consequence comments  \n",
       "0                Yes              No      NaN  \n",
       "1         Don't know              No      NaN  \n",
       "2                 No              No      NaN  \n",
       "3                 No             Yes      NaN  \n",
       "4         Don't know              No      NaN  \n",
       "\n",
       "[5 rows x 27 columns]"
      ]
     },
     "execution_count": 5,
     "metadata": {},
     "output_type": "execute_result"
    }
   ],
   "source": [
    "df.head()"
   ]
  },
  {
   "cell_type": "code",
   "execution_count": 6,
   "metadata": {},
   "outputs": [
    {
     "data": {
      "text/plain": [
       "Timestamp                    object\n",
       "Age                           int64\n",
       "Gender                       object\n",
       "Country                      object\n",
       "state                        object\n",
       "self_employed                object\n",
       "family_history               object\n",
       "treatment                    object\n",
       "work_interfere               object\n",
       "no_employees                 object\n",
       "remote_work                  object\n",
       "tech_company                 object\n",
       "benefits                     object\n",
       "care_options                 object\n",
       "wellness_program             object\n",
       "seek_help                    object\n",
       "anonymity                    object\n",
       "leave                        object\n",
       "mental_health_consequence    object\n",
       "phys_health_consequence      object\n",
       "coworkers                    object\n",
       "supervisor                   object\n",
       "mental_health_interview      object\n",
       "phys_health_interview        object\n",
       "mental_vs_physical           object\n",
       "obs_consequence              object\n",
       "comments                     object\n",
       "dtype: object"
      ]
     },
     "execution_count": 6,
     "metadata": {},
     "output_type": "execute_result"
    }
   ],
   "source": [
    "df.dtypes"
   ]
  },
  {
   "cell_type": "code",
   "execution_count": 7,
   "metadata": {},
   "outputs": [
    {
     "data": {
      "text/plain": [
       "(1259, 27)"
      ]
     },
     "execution_count": 7,
     "metadata": {},
     "output_type": "execute_result"
    }
   ],
   "source": [
    "df.shape"
   ]
  },
  {
   "cell_type": "code",
   "execution_count": 8,
   "metadata": {},
   "outputs": [
    {
     "data": {
      "text/plain": [
       "Timestamp                       0\n",
       "Age                             0\n",
       "Gender                          0\n",
       "Country                         0\n",
       "state                         515\n",
       "self_employed                  18\n",
       "family_history                  0\n",
       "treatment                       0\n",
       "work_interfere                264\n",
       "no_employees                    0\n",
       "remote_work                     0\n",
       "tech_company                    0\n",
       "benefits                        0\n",
       "care_options                    0\n",
       "wellness_program                0\n",
       "seek_help                       0\n",
       "anonymity                       0\n",
       "leave                           0\n",
       "mental_health_consequence       0\n",
       "phys_health_consequence         0\n",
       "coworkers                       0\n",
       "supervisor                      0\n",
       "mental_health_interview         0\n",
       "phys_health_interview           0\n",
       "mental_vs_physical              0\n",
       "obs_consequence                 0\n",
       "comments                     1095\n",
       "dtype: int64"
      ]
     },
     "execution_count": 8,
     "metadata": {},
     "output_type": "execute_result"
    }
   ],
   "source": [
    "df.isnull().sum()"
   ]
  },
  {
   "cell_type": "code",
   "execution_count": 9,
   "metadata": {},
   "outputs": [
    {
     "data": {
      "text/plain": [
       "Index(['Timestamp', 'Age', 'Gender', 'Country', 'state', 'self_employed',\n",
       "       'family_history', 'treatment', 'work_interfere', 'no_employees',\n",
       "       'remote_work', 'tech_company', 'benefits', 'care_options',\n",
       "       'wellness_program', 'seek_help', 'anonymity', 'leave',\n",
       "       'mental_health_consequence', 'phys_health_consequence', 'coworkers',\n",
       "       'supervisor', 'mental_health_interview', 'phys_health_interview',\n",
       "       'mental_vs_physical', 'obs_consequence', 'comments'],\n",
       "      dtype='object')"
      ]
     },
     "execution_count": 9,
     "metadata": {},
     "output_type": "execute_result"
    }
   ],
   "source": [
    "df.columns"
   ]
  },
  {
   "cell_type": "code",
   "execution_count": 10,
   "metadata": {},
   "outputs": [],
   "source": [
    "# Assuring column names are all lower case and whitespaces are replace by underscores\n",
    "df.columns = df.columns.str.lower().str.strip().str.replace(\" \", \"_\")"
   ]
  },
  {
   "cell_type": "code",
   "execution_count": 11,
   "metadata": {},
   "outputs": [],
   "source": [
    "# Drop NaN values in the self-employed column because it is very low compared with the whole dataset\n",
    "df = df.dropna(subset=['self_employed'], how='all', inplace=True)"
   ]
  },
  {
   "cell_type": "markdown",
   "metadata": {},
   "source": [
    "#### Cleaning age column"
   ]
  },
  {
   "cell_type": "code",
   "execution_count": 12,
   "metadata": {
    "scrolled": true
   },
   "outputs": [
    {
     "data": {
      "text/html": [
       "<div>\n",
       "<style scoped>\n",
       "    .dataframe tbody tr th:only-of-type {\n",
       "        vertical-align: middle;\n",
       "    }\n",
       "\n",
       "    .dataframe tbody tr th {\n",
       "        vertical-align: top;\n",
       "    }\n",
       "\n",
       "    .dataframe thead th {\n",
       "        text-align: right;\n",
       "    }\n",
       "</style>\n",
       "<table border=\"1\" class=\"dataframe\">\n",
       "  <thead>\n",
       "    <tr style=\"text-align: right;\">\n",
       "      <th></th>\n",
       "      <th>age</th>\n",
       "    </tr>\n",
       "  </thead>\n",
       "  <tbody>\n",
       "    <tr>\n",
       "      <th>count</th>\n",
       "      <td>1.241000e+03</td>\n",
       "    </tr>\n",
       "    <tr>\n",
       "      <th>mean</th>\n",
       "      <td>8.058021e+07</td>\n",
       "    </tr>\n",
       "    <tr>\n",
       "      <th>std</th>\n",
       "      <td>2.838665e+09</td>\n",
       "    </tr>\n",
       "    <tr>\n",
       "      <th>min</th>\n",
       "      <td>-1.726000e+03</td>\n",
       "    </tr>\n",
       "    <tr>\n",
       "      <th>25%</th>\n",
       "      <td>2.700000e+01</td>\n",
       "    </tr>\n",
       "    <tr>\n",
       "      <th>50%</th>\n",
       "      <td>3.100000e+01</td>\n",
       "    </tr>\n",
       "    <tr>\n",
       "      <th>75%</th>\n",
       "      <td>3.600000e+01</td>\n",
       "    </tr>\n",
       "    <tr>\n",
       "      <th>max</th>\n",
       "      <td>1.000000e+11</td>\n",
       "    </tr>\n",
       "  </tbody>\n",
       "</table>\n",
       "</div>"
      ],
      "text/plain": [
       "                age\n",
       "count  1.241000e+03\n",
       "mean   8.058021e+07\n",
       "std    2.838665e+09\n",
       "min   -1.726000e+03\n",
       "25%    2.700000e+01\n",
       "50%    3.100000e+01\n",
       "75%    3.600000e+01\n",
       "max    1.000000e+11"
      ]
     },
     "execution_count": 12,
     "metadata": {},
     "output_type": "execute_result"
    }
   ],
   "source": [
    "# age's min and max are outliers and very humanily impossible\n",
    "df.describe()"
   ]
  },
  {
   "cell_type": "code",
   "execution_count": 13,
   "metadata": {},
   "outputs": [],
   "source": [
    "# Removing outliers manually - keeping all age columns where age is between 20 and 75 years old.\n",
    "# Assigning NaN to all other values, in order to drop these values at a later stage.\n",
    "df[\"age\"] = df[\"age\"].apply(lambda age: int(age) if (age > 20 and age < 75) else np.nan)\n"
   ]
  },
  {
   "cell_type": "code",
   "execution_count": 14,
   "metadata": {
    "scrolled": true
   },
   "outputs": [
    {
     "data": {
      "text/plain": [
       "21.0"
      ]
     },
     "execution_count": 14,
     "metadata": {},
     "output_type": "execute_result"
    }
   ],
   "source": [
    "df[\"age\"].min()"
   ]
  },
  {
   "cell_type": "code",
   "execution_count": 15,
   "metadata": {},
   "outputs": [
    {
     "data": {
      "text/plain": [
       "72.0"
      ]
     },
     "execution_count": 15,
     "metadata": {},
     "output_type": "execute_result"
    }
   ],
   "source": [
    "df[\"age\"].max()"
   ]
  },
  {
   "cell_type": "code",
   "execution_count": 16,
   "metadata": {},
   "outputs": [
    {
     "data": {
      "text/plain": [
       "30"
      ]
     },
     "execution_count": 16,
     "metadata": {},
     "output_type": "execute_result"
    }
   ],
   "source": [
    "df[\"age\"].isnull().sum()"
   ]
  },
  {
   "cell_type": "code",
   "execution_count": 17,
   "metadata": {
    "scrolled": true
   },
   "outputs": [
    {
     "data": {
      "text/plain": [
       "0"
      ]
     },
     "execution_count": 17,
     "metadata": {},
     "output_type": "execute_result"
    }
   ],
   "source": [
    "# dropping rows with NaN values in the age column\n",
    "df = df.dropna(subset=['age'], how='all', inplace=True)\n",
    "df[\"age\"].isnull().sum()"
   ]
  },
  {
   "cell_type": "code",
   "execution_count": 18,
   "metadata": {
    "scrolled": true
   },
   "outputs": [
    {
     "data": {
      "text/plain": [
       "(1211, 27)"
      ]
     },
     "execution_count": 18,
     "metadata": {},
     "output_type": "execute_result"
    }
   ],
   "source": [
    "# after rows being dropped\n",
    "df.shape"
   ]
  },
  {
   "cell_type": "markdown",
   "metadata": {},
   "source": [
    "#### Cleaning gender column\n"
   ]
  },
  {
   "cell_type": "code",
   "execution_count": 20,
   "metadata": {},
   "outputs": [
    {
     "data": {
      "text/plain": [
       "array(['male', 'Male', 'Female', 'female', 'M', 'm', 'Male-ish', 'maile',\n",
       "       'Trans-female', 'Cis Female', 'F', 'Cis Male', 'Woman', 'f', 'Mal',\n",
       "       'Male (CIS)', 'queer/she/they', 'non-binary', 'Femake', 'woman',\n",
       "       'Make', 'Nah', 'Enby', 'fluid', 'Genderqueer', 'Female ',\n",
       "       'Androgyne', 'Agender', 'cis-female/femme', 'Guy (-ish) ^_^',\n",
       "       'male leaning androgynous', 'Male ', 'Man', 'msle', 'Neuter',\n",
       "       'Female (trans)', 'queer', 'Female (cis)', 'Mail', 'cis male',\n",
       "       'Malr', 'femail', 'Cis Man',\n",
       "       'ostensibly male, unsure what that really means'], dtype=object)"
      ]
     },
     "execution_count": 20,
     "metadata": {},
     "output_type": "execute_result"
    }
   ],
   "source": [
    "df[\"gender\"].unique()"
   ]
  },
  {
   "cell_type": "code",
   "execution_count": 21,
   "metadata": {
    "scrolled": false
   },
   "outputs": [
    {
     "data": {
      "text/plain": [
       "male      939\n",
       "female    230\n",
       "Name: gender, dtype: int64"
      ]
     },
     "execution_count": 21,
     "metadata": {},
     "output_type": "execute_result"
    }
   ],
   "source": [
    "#Cleaning the \"gender\" column and making sure most of the values are \"male\" or \"female\"\n",
    "#Other values will be dropped for this analysis, as the number is very small.\n",
    "\n",
    "df[\"gender\"] = df.gender.apply(lambda x: x.lower().strip())\n",
    "df[\"gender\"] = df.gender.apply(lambda x: re.sub(r\"[m]$\",\"male\", x))\n",
    "df[\"gender\"] = df.gender.apply(lambda x: re.sub(r\"[f]$\",\"female\", x))\n",
    "\n",
    "\n",
    "df = df[(df[\"gender\"] == \"male\") | (df[\"gender\"] == \"female\")]\n",
    "\n",
    "df[\"gender\"].value_counts()\n",
    "\n"
   ]
  },
  {
   "cell_type": "markdown",
   "metadata": {},
   "source": [
    "#### Quick overview of the dataset"
   ]
  },
  {
   "cell_type": "code",
   "execution_count": null,
   "metadata": {},
   "outputs": [],
   "source": [
    "# Percentage per country\n",
    "(df.country.value_counts()/df.country.value_counts().sum())*100"
   ]
  },
  {
   "cell_type": "code",
   "execution_count": null,
   "metadata": {},
   "outputs": [],
   "source": [
    "# average age\n",
    "df.age.mean()"
   ]
  },
  {
   "cell_type": "code",
   "execution_count": null,
   "metadata": {},
   "outputs": [],
   "source": [
    "# percentage women vs men in tech\n",
    "\n",
    "total_respondents = df[\"gender\"].value_counts().sum()\n",
    "total_women = df[df[\"gender\"] == \"female\"].count()[1]\n",
    "total_men = df[df[\"gender\"] == \"male\"].count()[1]\n",
    "\n",
    "percentage_women = (total_women/total_respondents)*100\n",
    "percentage_men = (total_men/total_respondents)*100\n",
    "print(\"women\",percentage_women)\n",
    "print(\"men\", percentage_men)"
   ]
  },
  {
   "cell_type": "markdown",
   "metadata": {},
   "source": [
    "####  Discussing a Mental or Physical Issue & Negative Consequences\n"
   ]
  },
  {
   "cell_type": "code",
   "execution_count": 24,
   "metadata": {},
   "outputs": [],
   "source": [
    "#only columns that have the same type of answers \"Yes\", \"No\", \"Maybe\"\n",
    "consequence = df[[\"gender\",\"mental_health_consequence\",\"phys_health_consequence\"]]\n",
    "consequence_f = consequence[consequence[\"gender\"]==\"female\"]\n",
    "consequence_m = consequence[consequence[\"gender\"]==\"male\"]\n"
   ]
  },
  {
   "cell_type": "code",
   "execution_count": 25,
   "metadata": {},
   "outputs": [],
   "source": [
    "\n",
    "#Do you think that discussing a MENTAL health issue with your employer would have negative consequences? RATIO\n",
    "cons_wo_mental = (consequence_f[\"mental_health_consequence\"].value_counts()/total_women*100).sort_values()\n",
    "cons_m_mental = (consequence_m[\"mental_health_consequence\"].value_counts()/total_men*100).sort_values()\n",
    "\n",
    "\n",
    "#phys_health_consequence: Do you think that discussing a physical health issue with your employer would have negative \n",
    "#consequences? RATIO\n",
    "\n",
    "cons_wo_phy = (consequence_f[\"phys_health_consequence\"].value_counts()/total_women*100).sort_values()\n",
    "cons_m_phy = (consequence_m[\"phys_health_consequence\"].value_counts()/total_men*100).sort_values()\n"
   ]
  },
  {
   "cell_type": "code",
   "execution_count": 89,
   "metadata": {
    "scrolled": true
   },
   "outputs": [
    {
     "data": {
      "text/plain": [
       "<Figure size 1080x720 with 0 Axes>"
      ]
     },
     "metadata": {},
     "output_type": "display_data"
    },
    {
     "data": {
      "image/png": "[encoded data removed]",
      "text/plain": [
       "<Figure size 432x288 with 1 Axes>"
      ]
     },
     "metadata": {
      "needs_background": "light"
     },
     "output_type": "display_data"
    }
   ],
   "source": [
    "###MEN AGAINST WOMEN - MENTAL Issues\n",
    "#number of pairs of bars:\n",
    "n = 3\n",
    "\n",
    "#position of bars on x-axis\n",
    "\n",
    "labels =[\"Yes\", \"Maybe\",\"No\"]\n",
    "\n",
    "ind = np.arange(len(labels))\n",
    "\n",
    "fig = plt.figure(figsize=(15, 10))\n",
    "\n",
    "width = 0.4 #widht of the bars\n",
    "\n",
    "#WOMEN - behaviour facing mental vs physical disease \n",
    "fig, ax = plt.subplots()\n",
    "ax1 = ax.bar(ind,cons_wo_mental, width, label = \"Women\", color=\"#45ADA8\" )\n",
    "ax2 = ax.bar(ind + width, cons_m_mental, width, label = \"Men\", color = \"#E5FCC2\")\n",
    "\n",
    "\n",
    "# customising \n",
    "ax.set_ylabel('Percentage')\n",
    "ax.set_title('Negative Consequences of Discussing a Mental Health Problem')\n",
    "ax.set_ylim(0,100)\n",
    "ax.set_xticks(ind)\n",
    "ax.set_xticklabels(labels)\n",
    "\n",
    "\n",
    "ax.legend()\n",
    "\n",
    "plt.show()"
   ]
  },
  {
   "cell_type": "code",
   "execution_count": 29,
   "metadata": {
    "scrolled": true
   },
   "outputs": [
    {
     "data": {
      "text/plain": [
       "<Figure size 1080x720 with 0 Axes>"
      ]
     },
     "metadata": {},
     "output_type": "display_data"
    },
    {
     "data": {
      "image/png": "[encoded data removed]",
      "text/plain": [
       "<Figure size 432x288 with 1 Axes>"
      ]
     },
     "metadata": {
      "needs_background": "light"
     },
     "output_type": "display_data"
    }
   ],
   "source": [
    "###TEST   MEN AGAINST WOMEN - PHYSICAL\n",
    "#number of pairs of bars:\n",
    "n = 3\n",
    "\n",
    "#position of bars on x-axis\n",
    "\n",
    "labels =[\"Yes\", \"Maybe\",\"No\"]\n",
    "\n",
    "ind = np.arange(len(labels))\n",
    "\n",
    "fig = plt.figure(figsize=(15, 10))\n",
    "\n",
    "width = 0.4 #widht of the bars\n",
    "\n",
    "#WOMEN - behaviour facing mental vs physical disease \n",
    "fig, ax = plt.subplots()\n",
    "ax1 = ax.bar(ind,cons_wo_phy, width, label = \"Women\", color=\"#45ADA8\" )\n",
    "ax2 = ax.bar(ind + width, cons_m_phy, width, label = \"Men\", color = \"#E5FCC2\")\n",
    "\n",
    "\n",
    "# customising \n",
    "ax.set_ylabel('Percentage')\n",
    "ax.set_title('Negative Consequences of Discussing a Physical Health Problem')\n",
    "ax.set_ylim(0,100)\n",
    "ax.set_xticks(ind)\n",
    "ax.set_xticklabels(labels)\n",
    "\n",
    "\n",
    "ax.legend()\n",
    "\n",
    "plt.show()"
   ]
  },
  {
   "cell_type": "markdown",
   "metadata": {},
   "source": [
    "#### Mentioning a mental or physical issue in an interview?"
   ]
  },
  {
   "cell_type": "code",
   "execution_count": 30,
   "metadata": {},
   "outputs": [],
   "source": [
    "\n",
    "interview = df[[\"gender\",\"mental_health_interview\", \"phys_health_interview\"]]\n",
    "\n",
    "interview_f = interview[interview[\"gender\"]==\"female\"]\n",
    "interview_m = interview[interview[\"gender\"]==\"male\"]\n",
    "\n",
    "#Would you bring up a mental issue with a potential employer in an interview? \n",
    "interview_wo_mental = (interview_f[\"mental_health_interview\"].value_counts()/total_women*100).sort_values()\n",
    "interview_m_mental = (interview_m[\"mental_health_interview\"].value_counts()/total_men*100).sort_values()\n",
    "\n",
    "\n",
    "#phys_health_consequence: Do you think that discussing a physical health issue with your employer would have negative \n",
    "#consequences? RATIO\n",
    "\n",
    "interview_wo_phy = (interview_f[\"phys_health_interview\"].value_counts()/total_women*100).sort_values()\n",
    "interview_m_phy = (interview[\"phys_health_interview\"].value_counts()/total_men*100).sort_values()\n"
   ]
  },
  {
   "cell_type": "code",
   "execution_count": 31,
   "metadata": {},
   "outputs": [
    {
     "data": {
      "text/plain": [
       "<Figure size 1080x720 with 0 Axes>"
      ]
     },
     "metadata": {},
     "output_type": "display_data"
    },
    {
     "data": {
      "image/png": "[encoded data removed]",
      "text/plain": [
       "<Figure size 432x288 with 1 Axes>"
      ]
     },
     "metadata": {
      "needs_background": "light"
     },
     "output_type": "display_data"
    }
   ],
   "source": [
    "#MENTAL PROBLEM\n",
    "\n",
    "\n",
    "#number of pairs of bars:\n",
    "n = 3\n",
    "\n",
    "#position of bars on x-axis\n",
    "\n",
    "labels =[\"Yes\", \"Maybe\",\"No\"]\n",
    "\n",
    "ind = np.arange(len(labels))\n",
    "\n",
    "fig = plt.figure(figsize=(15, 10))\n",
    "\n",
    "width = 0.4 #widht of the bars\n",
    "\n",
    "#WOMEN - behaviour facing mental vs physical disease \n",
    "fig, ax = plt.subplots()\n",
    "ax1 = ax.bar(ind,interview_wo_mental, width, label = \"Women\", color=\"#E8175D\" )\n",
    "ax2 = ax.bar(ind + width, interview_m_mental, width, label = \"Men\", color = \"#363636\")\n",
    "\n",
    "\n",
    "# customising \n",
    "ax.set_ylabel('Percentage')\n",
    "ax.set_title('Mentioning a Mental Health Issue in an Interview')\n",
    "ax.set_ylim(0,100)\n",
    "ax.set_xticks(ind)\n",
    "ax.set_xticklabels(labels)\n",
    "\n",
    "\n",
    "ax.legend()\n",
    "\n",
    "plt.show()"
   ]
  },
  {
   "cell_type": "code",
   "execution_count": 32,
   "metadata": {
    "scrolled": true
   },
   "outputs": [
    {
     "data": {
      "text/plain": [
       "<Figure size 1080x720 with 0 Axes>"
      ]
     },
     "metadata": {},
     "output_type": "display_data"
    },
    {
     "data": {
      "image/png": "[encoded data removed]",
      "text/plain": [
       "<Figure size 432x288 with 1 Axes>"
      ]
     },
     "metadata": {
      "needs_background": "light"
     },
     "output_type": "display_data"
    }
   ],
   "source": [
    "### PYSHICAL PROBLEM\n",
    "\n",
    "\n",
    "#number of pairs of bars:\n",
    "n = 3\n",
    "\n",
    "#position of bars on x-axis\n",
    "\n",
    "labels =[\"Yes\", \"Maybe\",\"No\"]\n",
    "\n",
    "ind = np.arange(len(labels))\n",
    "\n",
    "fig = plt.figure(figsize=(15, 10))\n",
    "\n",
    "width = 0.4 #widht of the bars\n",
    "\n",
    "#WOMEN - behaviour facing mental vs physical disease \n",
    "fig, ax = plt.subplots()\n",
    "ax1 = ax.bar(ind,interview_wo_phy, width, label = \"Women\", color=\"#E8175D\" )\n",
    "ax2 = ax.bar(ind + width, interview_m_phy, width, label = \"Men\", color = \"#363636\")\n",
    "\n",
    "\n",
    "# customising \n",
    "ax.set_ylabel('Percentage')\n",
    "ax.set_title('Mentioning a Physical Health Issue in an Interview')\n",
    "\n",
    "ax.set_xticks(ind)\n",
    "ax.set_ylim(0,100)\n",
    "ax.set_xticklabels(labels)\n",
    "\n",
    "\n",
    "ax.legend()\n",
    "\n",
    "plt.show()"
   ]
  },
  {
   "cell_type": "markdown",
   "metadata": {},
   "source": [
    "#### Talking to a coworker / supervisor"
   ]
  },
  {
   "cell_type": "code",
   "execution_count": 53,
   "metadata": {},
   "outputs": [],
   "source": [
    "speaking = df[[\"gender\",\"coworkers\", \"supervisor\"]]\n",
    "\n",
    "speaking_f = speaking[speaking[\"gender\"]==\"female\"]\n",
    "speaking_m = speaking[speaking[\"gender\"]==\"male\"]\n",
    "\n",
    "#Would you speak to a co-worker or a supervisor - WOMEN?\n",
    "coworker_wo = (speaking_f[\"coworkers\"].value_counts()/total_women*100).sort_values()\n",
    "supervisor_wo = (speaking_f[\"supervisor\"].value_counts()/total_women*100).sort_values()\n",
    "\n",
    "# Would you speak to a co-worker or a supervisor - MEN ?\n",
    "coworker_m = (speaking_m[\"coworkers\"].value_counts()/total_men*100).sort_values()\n",
    "supervisor_m = (speaking_m[\"supervisor\"].value_counts()/total_men*100).sort_values()"
   ]
  },
  {
   "cell_type": "code",
   "execution_count": 54,
   "metadata": {},
   "outputs": [
    {
     "data": {
      "text/plain": [
       "<Figure size 1080x720 with 0 Axes>"
      ]
     },
     "metadata": {},
     "output_type": "display_data"
    },
    {
     "data": {
      "image/png": "[encoded data removed]",
      "text/plain": [
       "<Figure size 432x288 with 1 Axes>"
      ]
     },
     "metadata": {
      "needs_background": "light"
     },
     "output_type": "display_data"
    }
   ],
   "source": [
    "#TALKING TO A SUPERVISOR WOMEN-VS MEN\n",
    "#number of pairs of bars:\n",
    "n = 3\n",
    "\n",
    "#position of bars on x-axis\n",
    "\n",
    "labels =[\"Yes\", \"No\",\"Some of them\"]\n",
    "\n",
    "ind = np.arange(len(labels))\n",
    "\n",
    "fig = plt.figure(figsize=(15, 10))\n",
    "\n",
    "width = 0.4 #widht of the bars\n",
    "\n",
    "# WOMEN - SPEAKING TO COWORKER or SUPERVISOR\n",
    "fig, ax = plt.subplots()\n",
    "ax1 = ax.bar(ind, supervisor_wo, width, label = \"Women\", color=\"#4D446F\" )\n",
    "ax2 = ax.bar(ind + width, supervisor_m , width, label = \"Men\", color = \"#DF815F\")\n",
    "\n",
    "\n",
    "# customising \n",
    "ax.set_ylabel('Percentage')\n",
    "ax.set_title('Talking to a Supervisor')\n",
    "ax.set_ylim(0,100)\n",
    "ax.set_xticks(ind)\n",
    "ax.set_xticklabels(labels)\n",
    "\n",
    "\n",
    "ax.legend()\n",
    "\n",
    "plt.show()"
   ]
  },
  {
   "cell_type": "code",
   "execution_count": 55,
   "metadata": {},
   "outputs": [
    {
     "data": {
      "text/plain": [
       "<Figure size 1080x720 with 0 Axes>"
      ]
     },
     "metadata": {},
     "output_type": "display_data"
    },
    {
     "data": {
      "image/png": "[encoded data removed]",
      "text/plain": [
       "<Figure size 432x288 with 1 Axes>"
      ]
     },
     "metadata": {
      "needs_background": "light"
     },
     "output_type": "display_data"
    }
   ],
   "source": [
    "#TALKING TO A COWORKER WOMEN-VS MEN\n",
    "#number of pairs of bars:\n",
    "n = 3\n",
    "\n",
    "#position of bars on x-axis\n",
    "\n",
    "labels =[\"Yes\", \"No\",\"Some of them\"]\n",
    "\n",
    "ind = np.arange(len(labels))\n",
    "\n",
    "fig = plt.figure(figsize=(15, 10))\n",
    "\n",
    "width = 0.4 #widht of the bars\n",
    "\n",
    "# WOMEN - SPEAKING TO COWORKER or SUPERVISOR\n",
    "fig, ax = plt.subplots()\n",
    "ax1 = ax.bar(ind, coworker_wo, width, label = \"Women\", color=\"#4D446F\" )\n",
    "ax2 = ax.bar(ind + width, coworker_m , width, label = \"Men\", color = \"#DF815F\")\n",
    "\n",
    "\n",
    "# customising \n",
    "ax.set_ylabel('Percentage')\n",
    "ax.set_title('Talking to a Coworker')\n",
    "ax.set_ylim(0,100)\n",
    "ax.set_xticks(ind)\n",
    "ax.set_xticklabels(labels)\n",
    "\n",
    "\n",
    "ax.legend()\n",
    "\n",
    "plt.show()"
   ]
  },
  {
   "cell_type": "markdown",
   "metadata": {},
   "source": [
    "#### OTHER - Are employees in companies that offer mental health benefits less afraid / ashamed of talking about mental health issues?"
   ]
  },
  {
   "cell_type": "code",
   "execution_count": 44,
   "metadata": {},
   "outputs": [
    {
     "data": {
      "text/plain": [
       "<matplotlib.axes._subplots.AxesSubplot at 0x12287a710>"
      ]
     },
     "execution_count": 44,
     "metadata": {},
     "output_type": "execute_result"
    },
    {
     "data": {
      "image/png": "[encoded data removed]",
      "text/plain": [
       "<Figure size 432x288 with 1 Axes>"
      ]
     },
     "metadata": {},
     "output_type": "display_data"
    }
   ],
   "source": [
    "total_companies = df[\"benefits\"].value_counts().sum()\n",
    "benefits = (df[\"benefits\"].value_counts() /total_companies*100).sort_values()\n",
    "\n",
    "#Total companies offering mental health benefits\n",
    "\n",
    "benefits.plot(kind=\"pie\") #add actual percentage"
   ]
  },
  {
   "cell_type": "code",
   "execution_count": 45,
   "metadata": {},
   "outputs": [
    {
     "data": {
      "text/plain": [
       "<matplotlib.axes._subplots.AxesSubplot at 0x122770f28>"
      ]
     },
     "execution_count": 45,
     "metadata": {},
     "output_type": "execute_result"
    },
    {
     "data": {
      "image/png": "[encoded data removed]",
      "text/plain": [
       "<Figure size 432x288 with 1 Axes>"
      ]
     },
     "metadata": {},
     "output_type": "display_data"
    }
   ],
   "source": [
    "consequence = df[[\"gender\",\"mental_health_consequence\"]]\n",
    "#consequence_yes = (consequence[consequence[\"mental_health_consequence\"]==\"Yes\"].value_counts()/total_companies*100).sort_values()\n",
    "\n",
    "consequence = (consequence[\"mental_health_consequence\"].value_counts()/total_companies*100).sort_values()\n",
    "consequence.plot(kind=\"pie\") # add actual percentage"
   ]
  },
  {
   "cell_type": "code",
   "execution_count": null,
   "metadata": {},
   "outputs": [],
   "source": []
  }
 ],
 "metadata": {
  "kernelspec": {
   "display_name": "Python 3",
   "language": "python",
   "name": "python3"
  },
  "language_info": {
   "codemirror_mode": {
    "name": "ipython",
    "version": 3
   },
   "file_extension": ".py",
   "mimetype": "text/x-python",
   "name": "python",
   "nbconvert_exporter": "python",
   "pygments_lexer": "ipython3",
   "version": "3.7.2"
  }
 },
 "nbformat": 4,
 "nbformat_minor": 2
}
